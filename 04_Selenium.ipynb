{
 "cells": [
  {
   "cell_type": "markdown",
   "metadata": {},
   "source": [
    "## Web Scrapping con Selenium\n",
    "\n",
    "Selenium permite automatizar navegadores web "
   ]
  },
  {
   "cell_type": "code",
   "execution_count": 1,
   "metadata": {},
   "outputs": [
    {
     "name": "stdout",
     "output_type": "stream",
     "text": [
      "Requirement already satisfied: selenium in c:\\users\\52777\\appdata\\local\\programs\\python\\python39\\lib\\site-packages (3.141.0)\n",
      "Requirement already satisfied: urllib3 in c:\\users\\52777\\appdata\\local\\programs\\python\\python39\\lib\\site-packages (from selenium) (1.26.2)\n"
     ]
    }
   ],
   "source": [
    "import sys\n",
    "!{sys.executable} -m pip install -U selenium"
   ]
  },
  {
   "cell_type": "code",
   "execution_count": 2,
   "metadata": {},
   "outputs": [],
   "source": [
    "import zipfile\n",
    "import os\n",
    "import time\n",
    "from selenium import webdriver\n",
    "from selenium.webdriver.common.keys import Keys\n"
   ]
  },
  {
   "cell_type": "code",
   "execution_count": 3,
   "metadata": {},
   "outputs": [
    {
     "data": {
      "text/plain": [
       "'C:\\\\Users\\\\52777\\\\Desktop\\\\PYTHON\\\\Web Scrapping & APIS'"
      ]
     },
     "execution_count": 3,
     "metadata": {},
     "output_type": "execute_result"
    }
   ],
   "source": [
    "pwd # Para saber el directorio en el que se está trabajando"
   ]
  },
  {
   "cell_type": "code",
   "execution_count": 31,
   "metadata": {},
   "outputs": [],
   "source": [
    "# La descarga de https://chromedriver.chromium.org/download, se va a la carpeta en la cual se está trabajando\n",
    "driver = webdriver.Chrome(executable_path=r'C:\\\\Users\\\\52777\\\\Desktop\\\\PYTHON\\\\Web Scrapping & APIS\\chromedriver.exe')\n",
    "\n",
    "# La ejecución abre chrome y enlaza a la página\n",
    "driver.get('http://eportal.mapa.gob.es/websiar/SeleccionParametrosMap.aspx?dst=1') # Este comando abre la página web directamente"
   ]
  },
  {
   "cell_type": "code",
   "execution_count": 34,
   "metadata": {},
   "outputs": [],
   "source": [
    "# Llenando formulario de la página web\n",
    "\n",
    "# Hacer petición\n",
    "# Selecciona el nombre en 'comunidad autónoma' que es el valor 8\n",
    "string_cca = 'select[name =\"ctl00$ContentPlaceHolder1$DropDownListCCAA\"] option[value=\"8\"]'\n",
    "\n",
    "# Buscar el desplegable dentro de la web y darle el valor 8\n",
    "desplegable_cca = driver.find_element_by_css_selector(string_cca)\n",
    "\n",
    "# Da como respuesta el valor 8(Aragón) dentro del formulario\n",
    "click_desplegable_cca = desplegable_cca.click()\n",
    "\n",
    "\n",
    "# Para decirle que pare dos segundos y seleccione el siguiente desplegable del cuestionario\n",
    "time.sleep(2) # Dos segundos y te vas a la otra opción del cuestionario\n",
    "\n",
    "\n",
    "# Seleccionando provincia\n",
    "string_prov = 'select[name =\"ctl00$ContentPlaceHolder1$DropDownListProvincia\"] option[value=\"50\"]'\n",
    "\n",
    "# Buscar el desplegable dentro de la web\n",
    "desplegable_cca = driver.find_element_by_css_selector(string_prov)\n",
    "\n",
    "# Da como respuesta el valor 50(Zaragoza) dentro del formulario\n",
    "click_desplegable_cca = desplegable_cca.click() #Click en ese botón\n",
    "\n",
    "# SELECCIONANDO LA OPCION DE >> PARA PASAR ESA ESTACIÓN AL RECUADRO DE ESTACIONES SELECCIONADAS\n",
    "time.sleep(2)\n",
    "\n",
    "# No se utiliza select porque es un botón, por eso se utiliza input\n",
    "agregar_estacion = driver.find_element_by_css_selector('input[name=\"ctl00$ContentPlaceHolder1$ButtonAgregar\"]')\n",
    "click_agregar_estacion = agregar_estacion.click()\n",
    "\n",
    "\n",
    "# BOTÓN DE CONSULTAR DATOS\n",
    "time.sleep(2)\n",
    "\n",
    "consultar_datos = driver.find_element_by_css_selector('input[name=\"ctl00$ContentPlaceHolder1$btnConsultar\"]')\n",
    "consultar_datos = consultar_datos.click() \n"
   ]
  },
  {
   "cell_type": "code",
   "execution_count": null,
   "metadata": {},
   "outputs": [],
   "source": []
  }
 ],
 "metadata": {
  "kernelspec": {
   "display_name": "Python 3",
   "language": "python",
   "name": "python3"
  },
  "language_info": {
   "codemirror_mode": {
    "name": "ipython",
    "version": 3
   },
   "file_extension": ".py",
   "mimetype": "text/x-python",
   "name": "python",
   "nbconvert_exporter": "python",
   "pygments_lexer": "ipython3",
   "version": "3.9.0"
  }
 },
 "nbformat": 4,
 "nbformat_minor": 4
}
