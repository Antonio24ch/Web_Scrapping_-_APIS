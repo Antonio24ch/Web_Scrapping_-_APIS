{
 "cells": [
  {
   "cell_type": "markdown",
   "metadata": {},
   "source": [
    "## Pulling Data from Public APIs - Get Request"
   ]
  },
  {
   "cell_type": "code",
   "execution_count": 1,
   "metadata": {},
   "outputs": [],
   "source": [
    "BASE_URL = 'https://api.exchangeratesapi.io/latest'"
   ]
  },
  {
   "cell_type": "markdown",
   "metadata": {},
   "source": [
    "## Extracting Data on Currency Exchanges Rates"
   ]
  },
  {
   "cell_type": "markdown",
   "metadata": {},
   "source": [
    "### Sending a Get Request"
   ]
  },
  {
   "cell_type": "code",
   "execution_count": 2,
   "metadata": {},
   "outputs": [],
   "source": [
    "# Importing package\n",
    "import requests"
   ]
  },
  {
   "cell_type": "code",
   "execution_count": 48,
   "metadata": {},
   "outputs": [],
   "source": [
    "# .get() method submits a get resquest to the indicate URL and returns the response from the server\n",
    "response = requests.get(BASE_URL)"
   ]
  },
  {
   "cell_type": "markdown",
   "metadata": {},
   "source": [
    "## Investigating the Response"
   ]
  },
  {
   "cell_type": "code",
   "execution_count": 49,
   "metadata": {},
   "outputs": [
    {
     "data": {
      "text/plain": [
       "True"
      ]
     },
     "execution_count": 49,
     "metadata": {},
     "output_type": "execute_result"
    }
   ],
   "source": [
    "# Check is the request went through without problems with \"ok\"\n",
    "response.ok"
   ]
  },
  {
   "cell_type": "code",
   "execution_count": 50,
   "metadata": {},
   "outputs": [
    {
     "data": {
      "text/plain": [
       "200"
      ]
     },
     "execution_count": 50,
     "metadata": {},
     "output_type": "execute_result"
    }
   ],
   "source": [
    "# Check the status code\n",
    "response.status_code"
   ]
  },
  {
   "cell_type": "code",
   "execution_count": 52,
   "metadata": {},
   "outputs": [
    {
     "data": {
      "text/plain": [
       "'{\"rates\":{\"CAD\":1.5638,\"HKD\":9.5039,\"ISK\":156.4,\"PHP\":58.93,\"DKK\":7.4393,\"HUF\":357.24,\"CZK\":26.139,\"AUD\":1.6107,\"RON\":4.8688,\"SEK\":10.1333,\"IDR\":17337.6,\"INR\":90.117,\"BRL\":6.2668,\"RUB\":90.2025,\"HRK\":7.5328,\"JPY\":126.69,\"THB\":36.556,\"CHF\":1.0845,\"SGD\":1.6282,\"PLN\":4.4779,\"BGN\":1.9558,\"TRY\":9.3988,\"CNY\":8.0146,\"NOK\":10.5163,\"NZD\":1.7201,\"ZAR\":17.8699,\"USD\":1.2259,\"MXN\":24.328,\"ILS\":3.9676,\"GBP\":0.90828,\"KRW\":1346.95,\"MYR\":4.9532},\"base\":\"EUR\",\"date\":\"2020-12-18\"}'"
      ]
     },
     "execution_count": 52,
     "metadata": {},
     "output_type": "execute_result"
    }
   ],
   "source": [
    "response.text"
   ]
  },
  {
   "cell_type": "code",
   "execution_count": 53,
   "metadata": {},
   "outputs": [
    {
     "data": {
      "text/plain": [
       "b'{\"rates\":{\"CAD\":1.5638,\"HKD\":9.5039,\"ISK\":156.4,\"PHP\":58.93,\"DKK\":7.4393,\"HUF\":357.24,\"CZK\":26.139,\"AUD\":1.6107,\"RON\":4.8688,\"SEK\":10.1333,\"IDR\":17337.6,\"INR\":90.117,\"BRL\":6.2668,\"RUB\":90.2025,\"HRK\":7.5328,\"JPY\":126.69,\"THB\":36.556,\"CHF\":1.0845,\"SGD\":1.6282,\"PLN\":4.4779,\"BGN\":1.9558,\"TRY\":9.3988,\"CNY\":8.0146,\"NOK\":10.5163,\"NZD\":1.7201,\"ZAR\":17.8699,\"USD\":1.2259,\"MXN\":24.328,\"ILS\":3.9676,\"GBP\":0.90828,\"KRW\":1346.95,\"MYR\":4.9532},\"base\":\"EUR\",\"date\":\"2020-12-18\"}'"
      ]
     },
     "execution_count": 53,
     "metadata": {},
     "output_type": "execute_result"
    }
   ],
   "source": [
    "# Content returns it in bytes format\n",
    "response.content"
   ]
  },
  {
   "cell_type": "markdown",
   "metadata": {},
   "source": [
    "## Handling JSON"
   ]
  },
  {
   "cell_type": "code",
   "execution_count": 54,
   "metadata": {},
   "outputs": [
    {
     "data": {
      "text/plain": [
       "{'rates': {'CAD': 1.5638,\n",
       "  'HKD': 9.5039,\n",
       "  'ISK': 156.4,\n",
       "  'PHP': 58.93,\n",
       "  'DKK': 7.4393,\n",
       "  'HUF': 357.24,\n",
       "  'CZK': 26.139,\n",
       "  'AUD': 1.6107,\n",
       "  'RON': 4.8688,\n",
       "  'SEK': 10.1333,\n",
       "  'IDR': 17337.6,\n",
       "  'INR': 90.117,\n",
       "  'BRL': 6.2668,\n",
       "  'RUB': 90.2025,\n",
       "  'HRK': 7.5328,\n",
       "  'JPY': 126.69,\n",
       "  'THB': 36.556,\n",
       "  'CHF': 1.0845,\n",
       "  'SGD': 1.6282,\n",
       "  'PLN': 4.4779,\n",
       "  'BGN': 1.9558,\n",
       "  'TRY': 9.3988,\n",
       "  'CNY': 8.0146,\n",
       "  'NOK': 10.5163,\n",
       "  'NZD': 1.7201,\n",
       "  'ZAR': 17.8699,\n",
       "  'USD': 1.2259,\n",
       "  'MXN': 24.328,\n",
       "  'ILS': 3.9676,\n",
       "  'GBP': 0.90828,\n",
       "  'KRW': 1346.95,\n",
       "  'MYR': 4.9532},\n",
       " 'base': 'EUR',\n",
       " 'date': '2020-12-18'}"
      ]
     },
     "execution_count": 54,
     "metadata": {},
     "output_type": "execute_result"
    }
   ],
   "source": [
    "response.json()"
   ]
  },
  {
   "cell_type": "code",
   "execution_count": 55,
   "metadata": {},
   "outputs": [
    {
     "data": {
      "text/plain": [
       "dict"
      ]
     },
     "execution_count": 55,
     "metadata": {},
     "output_type": "execute_result"
    }
   ],
   "source": [
    "# Checking the type\n",
    "type(response.json())"
   ]
  },
  {
   "cell_type": "markdown",
   "metadata": {},
   "source": [
    "#### Analizing the response"
   ]
  },
  {
   "cell_type": "code",
   "execution_count": 56,
   "metadata": {},
   "outputs": [],
   "source": [
    "# Importing JSON package\n",
    "import json"
   ]
  },
  {
   "cell_type": "markdown",
   "metadata": {},
   "source": [
    "##### THE PYTHON 'JSON' PACKAGE\n",
    "\n",
    "`loads`(string): converts a JSON formatted string to a python object\n",
    "\n",
    "\n",
    "`dumps`(obj): converts a python object back to a regular string with options to make the string prettier"
   ]
  },
  {
   "cell_type": "code",
   "execution_count": 57,
   "metadata": {},
   "outputs": [
    {
     "data": {
      "text/plain": [
       "'{\\n     \"rates\": {\\n          \"CAD\": 1.5638,\\n          \"HKD\": 9.5039,\\n          \"ISK\": 156.4,\\n          \"PHP\": 58.93,\\n          \"DKK\": 7.4393,\\n          \"HUF\": 357.24,\\n          \"CZK\": 26.139,\\n          \"AUD\": 1.6107,\\n          \"RON\": 4.8688,\\n          \"SEK\": 10.1333,\\n          \"IDR\": 17337.6,\\n          \"INR\": 90.117,\\n          \"BRL\": 6.2668,\\n          \"RUB\": 90.2025,\\n          \"HRK\": 7.5328,\\n          \"JPY\": 126.69,\\n          \"THB\": 36.556,\\n          \"CHF\": 1.0845,\\n          \"SGD\": 1.6282,\\n          \"PLN\": 4.4779,\\n          \"BGN\": 1.9558,\\n          \"TRY\": 9.3988,\\n          \"CNY\": 8.0146,\\n          \"NOK\": 10.5163,\\n          \"NZD\": 1.7201,\\n          \"ZAR\": 17.8699,\\n          \"USD\": 1.2259,\\n          \"MXN\": 24.328,\\n          \"ILS\": 3.9676,\\n          \"GBP\": 0.90828,\\n          \"KRW\": 1346.95,\\n          \"MYR\": 4.9532\\n     },\\n     \"base\": \"EUR\",\\n     \"date\": \"2020-12-18\"\\n}'"
      ]
     },
     "execution_count": 57,
     "metadata": {},
     "output_type": "execute_result"
    }
   ],
   "source": [
    "json.dumps(response.json(), indent=5)"
   ]
  },
  {
   "cell_type": "code",
   "execution_count": 58,
   "metadata": {},
   "outputs": [
    {
     "name": "stdout",
     "output_type": "stream",
     "text": [
      "{\n",
      "  \"rates\": {\n",
      "    \"CAD\": 1.5638,\n",
      "    \"HKD\": 9.5039,\n",
      "    \"ISK\": 156.4,\n",
      "    \"PHP\": 58.93,\n",
      "    \"DKK\": 7.4393,\n",
      "    \"HUF\": 357.24,\n",
      "    \"CZK\": 26.139,\n",
      "    \"AUD\": 1.6107,\n",
      "    \"RON\": 4.8688,\n",
      "    \"SEK\": 10.1333,\n",
      "    \"IDR\": 17337.6,\n",
      "    \"INR\": 90.117,\n",
      "    \"BRL\": 6.2668,\n",
      "    \"RUB\": 90.2025,\n",
      "    \"HRK\": 7.5328,\n",
      "    \"JPY\": 126.69,\n",
      "    \"THB\": 36.556,\n",
      "    \"CHF\": 1.0845,\n",
      "    \"SGD\": 1.6282,\n",
      "    \"PLN\": 4.4779,\n",
      "    \"BGN\": 1.9558,\n",
      "    \"TRY\": 9.3988,\n",
      "    \"CNY\": 8.0146,\n",
      "    \"NOK\": 10.5163,\n",
      "    \"NZD\": 1.7201,\n",
      "    \"ZAR\": 17.8699,\n",
      "    \"USD\": 1.2259,\n",
      "    \"MXN\": 24.328,\n",
      "    \"ILS\": 3.9676,\n",
      "    \"GBP\": 0.90828,\n",
      "    \"KRW\": 1346.95,\n",
      "    \"MYR\": 4.9532\n",
      "  },\n",
      "  \"base\": \"EUR\",\n",
      "  \"date\": \"2020-12-18\"\n",
      "}\n"
     ]
    }
   ],
   "source": [
    "print(json.dumps(response.json(), indent=2))"
   ]
  },
  {
   "cell_type": "code",
   "execution_count": 59,
   "metadata": {},
   "outputs": [
    {
     "data": {
      "text/plain": [
       "dict_keys(['rates', 'base', 'date'])"
      ]
     },
     "execution_count": 59,
     "metadata": {},
     "output_type": "execute_result"
    }
   ],
   "source": [
    "# Looking and inspecting the contents of this json\n",
    "response.json().keys()"
   ]
  },
  {
   "cell_type": "markdown",
   "metadata": {},
   "source": [
    "To specify a parameter, we incorporate it in the URL itself:\n",
    "\n",
    "https://...?par1=value&par2=value2"
   ]
  },
  {
   "cell_type": "markdown",
   "metadata": {},
   "source": [
    "## Incorporating Parameters in the Get Request"
   ]
  },
  {
   "cell_type": "code",
   "execution_count": 60,
   "metadata": {},
   "outputs": [
    {
     "data": {
      "text/plain": [
       "'https://api.exchangeratesapi.io/latest?symbols=MXN,USD'"
      ]
     },
     "execution_count": 60,
     "metadata": {},
     "output_type": "execute_result"
    }
   ],
   "source": [
    "# If we are only interested in the exchange rates of the Mexican pesos and US dollar\n",
    "url_par = BASE_URL + '?symbols=MXN,USD'\n",
    "url_par"
   ]
  },
  {
   "cell_type": "code",
   "execution_count": 61,
   "metadata": {},
   "outputs": [
    {
     "data": {
      "text/plain": [
       "<Response [200]>"
      ]
     },
     "execution_count": 61,
     "metadata": {},
     "output_type": "execute_result"
    }
   ],
   "source": [
    "# Let's proceed with the request as usual status\n",
    "response = requests.get(url_par)\n",
    "response"
   ]
  },
  {
   "cell_type": "code",
   "execution_count": 62,
   "metadata": {},
   "outputs": [
    {
     "data": {
      "text/plain": [
       "{'rates': {'MXN': 24.328, 'USD': 1.2259}, 'base': 'EUR', 'date': '2020-12-18'}"
      ]
     },
     "execution_count": 62,
     "metadata": {},
     "output_type": "execute_result"
    }
   ],
   "source": [
    "# Converting JSON response to the variable data \n",
    "data = response.json()\n",
    "data"
   ]
  },
  {
   "cell_type": "code",
   "execution_count": 63,
   "metadata": {},
   "outputs": [
    {
     "data": {
      "text/plain": [
       "'EUR'"
      ]
     },
     "execution_count": 63,
     "metadata": {},
     "output_type": "execute_result"
    }
   ],
   "source": [
    "# Accessing to the keys values \n",
    "data['base']"
   ]
  },
  {
   "cell_type": "code",
   "execution_count": 64,
   "metadata": {},
   "outputs": [
    {
     "data": {
      "text/plain": [
       "{'MXN': 24.328, 'USD': 1.2259}"
      ]
     },
     "execution_count": 64,
     "metadata": {},
     "output_type": "execute_result"
    }
   ],
   "source": [
    "# rates contains only the currencies that supplied in the symbols parameter\n",
    "data['rates']"
   ]
  },
  {
   "cell_type": "code",
   "execution_count": 65,
   "metadata": {},
   "outputs": [
    {
     "data": {
      "text/plain": [
       "'2020-12-18'"
      ]
     },
     "execution_count": 65,
     "metadata": {},
     "output_type": "execute_result"
    }
   ],
   "source": [
    "data['date']"
   ]
  },
  {
   "cell_type": "code",
   "execution_count": 66,
   "metadata": {},
   "outputs": [
    {
     "data": {
      "text/plain": [
       "'https://api.exchangeratesapi.io/latest?symbols=MXN&base=USD'"
      ]
     },
     "execution_count": 66,
     "metadata": {},
     "output_type": "execute_result"
    }
   ],
   "source": [
    "url_par1 = BASE_URL + '?symbols=MXN' + '&' 'base=USD'\n",
    "url_par1"
   ]
  },
  {
   "cell_type": "code",
   "execution_count": 67,
   "metadata": {},
   "outputs": [
    {
     "data": {
      "text/plain": [
       "{'rates': {'MXN': 19.845011828}, 'base': 'USD', 'date': '2020-12-18'}"
      ]
     },
     "execution_count": 67,
     "metadata": {},
     "output_type": "execute_result"
    }
   ],
   "source": [
    "# Convert MXN to USD\n",
    "data1 = requests.get(url_par1).json()\n",
    "data1"
   ]
  },
  {
   "cell_type": "code",
   "execution_count": 68,
   "metadata": {},
   "outputs": [
    {
     "data": {
      "text/plain": [
       "1.2259"
      ]
     },
     "execution_count": 68,
     "metadata": {},
     "output_type": "execute_result"
    }
   ],
   "source": [
    "# Obtaining the response data we can find the desired rate by accessing the dictionary and then the currency key \n",
    "mxn_to_usd = data['rates']['USD']\n",
    "mxn_to_usd"
   ]
  },
  {
   "cell_type": "markdown",
   "metadata": {},
   "source": [
    "### Obtaining Historical Exchanges Rates"
   ]
  },
  {
   "cell_type": "code",
   "execution_count": 94,
   "metadata": {},
   "outputs": [],
   "source": [
    "BASE_URL = 'https://api.exchangeratesapi.io/'"
   ]
  },
  {
   "cell_type": "code",
   "execution_count": 95,
   "metadata": {},
   "outputs": [
    {
     "data": {
      "text/plain": [
       "'https://api.exchangeratesapi.io/2010-01-12'"
      ]
     },
     "execution_count": 95,
     "metadata": {},
     "output_type": "execute_result"
    }
   ],
   "source": [
    "# historical data rates for a single day since 1999 historical rates for a time. format YYYY-MM-DD\n",
    "hist_data = BASE_URL + '2010-01-12'\n",
    "hist_data"
   ]
  },
  {
   "cell_type": "code",
   "execution_count": 96,
   "metadata": {},
   "outputs": [
    {
     "data": {
      "text/plain": [
       "200"
      ]
     },
     "execution_count": 96,
     "metadata": {},
     "output_type": "execute_result"
    }
   ],
   "source": [
    "# Checking the status\n",
    "response = requests.get(hist_data)\n",
    "response.status_code"
   ]
  },
  {
   "cell_type": "code",
   "execution_count": 99,
   "metadata": {},
   "outputs": [
    {
     "name": "stdout",
     "output_type": "stream",
     "text": [
      "{\n",
      "     \"rates\": {\n",
      "          \"CAD\": 1.4959,\n",
      "          \"HKD\": 11.2301,\n",
      "          \"LVL\": 0.7093,\n",
      "          \"PHP\": 66.106,\n",
      "          \"DKK\": 7.4405,\n",
      "          \"HUF\": 268.18,\n",
      "          \"CZK\": 26.258,\n",
      "          \"AUD\": 1.5668,\n",
      "          \"RON\": 4.1405,\n",
      "          \"SEK\": 10.2215,\n",
      "          \"IDR\": 13281.14,\n",
      "          \"INR\": 66.21,\n",
      "          \"BRL\": 2.5309,\n",
      "          \"RUB\": 42.6974,\n",
      "          \"LTL\": 3.4528,\n",
      "          \"JPY\": 132.41,\n",
      "          \"THB\": 47.839,\n",
      "          \"CHF\": 1.4743,\n",
      "          \"SGD\": 2.0133,\n",
      "          \"PLN\": 4.0838,\n",
      "          \"BGN\": 1.9558,\n",
      "          \"TRY\": 2.1084,\n",
      "          \"CNY\": 9.8863,\n",
      "          \"NOK\": 8.1825,\n",
      "          \"NZD\": 1.9573,\n",
      "          \"ZAR\": 10.8264,\n",
      "          \"USD\": 1.4481,\n",
      "          \"MXN\": 18.4995,\n",
      "          \"EEK\": 15.6466,\n",
      "          \"GBP\": 0.8972,\n",
      "          \"KRW\": 1627.4,\n",
      "          \"MYR\": 4.8424,\n",
      "          \"HRK\": 7.2753\n",
      "     },\n",
      "     \"base\": \"EUR\",\n",
      "     \"date\": \"2010-01-12\"\n",
      "}\n"
     ]
    }
   ],
   "source": [
    "# Checking the response\n",
    "data = response.json()\n",
    "print(json.dumps(data, indent=5))"
   ]
  },
  {
   "cell_type": "markdown",
   "metadata": {},
   "source": [
    "### Extracting Data for a Time Period"
   ]
  },
  {
   "cell_type": "code",
   "execution_count": 108,
   "metadata": {},
   "outputs": [
    {
     "data": {
      "text/plain": [
       "'https://api.exchangeratesapi.io/history?start_at=2015-05-12&end_at=2016-04-24&symbols=MXN'"
      ]
     },
     "execution_count": 108,
     "metadata": {},
     "output_type": "execute_result"
    }
   ],
   "source": [
    "time_period = BASE_URL + 'history' + '?start_at=2015-05-12&end_at=2016-04-24' + '&symbols=MXN'\n",
    "time_period"
   ]
  },
  {
   "cell_type": "code",
   "execution_count": 109,
   "metadata": {},
   "outputs": [],
   "source": [
    "data_period = requests.get(time_period).json()\n"
   ]
  },
  {
   "cell_type": "code",
   "execution_count": 110,
   "metadata": {},
   "outputs": [
    {
     "name": "stdout",
     "output_type": "stream",
     "text": [
      "{\n",
      "     \"rates\": {\n",
      "          \"2016-04-20\": {\n",
      "               \"MXN\": 19.706\n",
      "          },\n",
      "          \"2015-10-13\": {\n",
      "               \"MXN\": 18.8763\n",
      "          },\n",
      "          \"2015-08-12\": {\n",
      "               \"MXN\": 18.0895\n",
      "          },\n",
      "          \"2016-03-21\": {\n",
      "               \"MXN\": 19.5916\n",
      "          },\n",
      "          \"2015-12-11\": {\n",
      "               \"MXN\": 18.9987\n",
      "          },\n",
      "          \"2015-10-28\": {\n",
      "               \"MXN\": 18.3058\n",
      "          },\n",
      "          \"2015-06-23\": {\n",
      "               \"MXN\": 17.2284\n",
      "          },\n",
      "          \"2015-09-03\": {\n",
      "               \"MXN\": 18.9809\n",
      "          },\n",
      "          \"2015-12-10\": {\n",
      "               \"MXN\": 18.6731\n",
      "          },\n",
      "          \"2016-01-12\": {\n",
      "               \"MXN\": 19.2772\n",
      "          },\n",
      "          \"2015-09-14\": {\n",
      "               \"MXN\": 18.9743\n",
      "          },\n",
      "          \"2015-10-06\": {\n",
      "               \"MXN\": 18.8647\n",
      "          },\n",
      "          \"2016-01-25\": {\n",
      "               \"MXN\": 19.997\n",
      "          },\n",
      "          \"2015-05-19\": {\n",
      "               \"MXN\": 16.9139\n",
      "          },\n",
      "          \"2016-01-22\": {\n",
      "               \"MXN\": 20.016\n",
      "          },\n",
      "          \"2015-09-23\": {\n",
      "               \"MXN\": 18.7989\n",
      "          },\n",
      "          \"2015-09-04\": {\n",
      "               \"MXN\": 18.7826\n",
      "          },\n",
      "          \"2015-08-11\": {\n",
      "               \"MXN\": 17.9843\n",
      "          },\n",
      "          \"2016-03-23\": {\n",
      "               \"MXN\": 19.4942\n",
      "          },\n",
      "          \"2016-02-26\": {\n",
      "               \"MXN\": 19.9233\n",
      "          },\n",
      "          \"2015-06-15\": {\n",
      "               \"MXN\": 17.3273\n",
      "          },\n",
      "          \"2015-08-18\": {\n",
      "               \"MXN\": 18.186\n",
      "          },\n",
      "          \"2016-04-22\": {\n",
      "               \"MXN\": 19.6823\n",
      "          },\n",
      "          \"2016-02-18\": {\n",
      "               \"MXN\": 20.211\n",
      "          },\n",
      "          \"2015-11-09\": {\n",
      "               \"MXN\": 18.1743\n",
      "          },\n",
      "          \"2015-08-04\": {\n",
      "               \"MXN\": 17.6781\n",
      "          },\n",
      "          \"2015-12-24\": {\n",
      "               \"MXN\": 18.9109\n",
      "          },\n",
      "          \"2015-07-16\": {\n",
      "               \"MXN\": 17.1981\n",
      "          },\n",
      "          \"2016-03-17\": {\n",
      "               \"MXN\": 19.8183\n",
      "          },\n",
      "          \"2016-01-15\": {\n",
      "               \"MXN\": 19.7876\n",
      "          },\n",
      "          \"2015-08-10\": {\n",
      "               \"MXN\": 17.7623\n",
      "          },\n",
      "          \"2015-09-28\": {\n",
      "               \"MXN\": 19.0756\n",
      "          },\n",
      "          \"2016-03-04\": {\n",
      "               \"MXN\": 19.5613\n",
      "          },\n",
      "          \"2015-08-19\": {\n",
      "               \"MXN\": 18.1282\n",
      "          },\n",
      "          \"2015-12-18\": {\n",
      "               \"MXN\": 18.4429\n",
      "          },\n",
      "          \"2015-09-17\": {\n",
      "               \"MXN\": 18.7496\n",
      "          },\n",
      "          \"2015-07-28\": {\n",
      "               \"MXN\": 17.8941\n",
      "          },\n",
      "          \"2015-08-05\": {\n",
      "               \"MXN\": 17.7295\n",
      "          },\n",
      "          \"2015-05-20\": {\n",
      "               \"MXN\": 16.8716\n",
      "          },\n",
      "          \"2015-08-17\": {\n",
      "               \"MXN\": 18.29\n",
      "          },\n",
      "          \"2015-11-24\": {\n",
      "               \"MXN\": 17.6141\n",
      "          },\n",
      "          \"2015-07-03\": {\n",
      "               \"MXN\": 17.424\n",
      "          },\n",
      "          \"2015-09-01\": {\n",
      "               \"MXN\": 18.9495\n",
      "          },\n",
      "          \"2016-03-14\": {\n",
      "               \"MXN\": 19.7648\n",
      "          },\n",
      "          \"2015-09-10\": {\n",
      "               \"MXN\": 18.9163\n",
      "          },\n",
      "          \"2015-07-10\": {\n",
      "               \"MXN\": 17.5694\n",
      "          },\n",
      "          \"2016-03-09\": {\n",
      "               \"MXN\": 19.5511\n",
      "          },\n",
      "          \"2015-09-18\": {\n",
      "               \"MXN\": 18.7957\n",
      "          },\n",
      "          \"2015-05-26\": {\n",
      "               \"MXN\": 16.7097\n",
      "          },\n",
      "          \"2015-09-21\": {\n",
      "               \"MXN\": 18.6722\n",
      "          },\n",
      "          \"2015-12-28\": {\n",
      "               \"MXN\": 18.9347\n",
      "          },\n",
      "          \"2015-07-27\": {\n",
      "               \"MXN\": 18.0555\n",
      "          },\n",
      "          \"2015-07-31\": {\n",
      "               \"MXN\": 17.7473\n",
      "          },\n",
      "          \"2015-11-05\": {\n",
      "               \"MXN\": 17.9972\n",
      "          },\n",
      "          \"2016-02-04\": {\n",
      "               \"MXN\": 20.3101\n",
      "          },\n",
      "          \"2016-03-31\": {\n",
      "               \"MXN\": 19.5903\n",
      "          },\n",
      "          \"2015-05-22\": {\n",
      "               \"MXN\": 17.005\n",
      "          },\n",
      "          \"2015-10-14\": {\n",
      "               \"MXN\": 18.8927\n",
      "          },\n",
      "          \"2015-07-20\": {\n",
      "               \"MXN\": 17.2628\n",
      "          },\n",
      "          \"2015-07-24\": {\n",
      "               \"MXN\": 17.8076\n",
      "          },\n",
      "          \"2016-02-01\": {\n",
      "               \"MXN\": 19.8811\n",
      "          },\n",
      "          \"2015-11-04\": {\n",
      "               \"MXN\": 17.9197\n",
      "          },\n",
      "          \"2015-06-12\": {\n",
      "               \"MXN\": 17.3125\n",
      "          },\n",
      "          \"2015-12-08\": {\n",
      "               \"MXN\": 18.5495\n",
      "          },\n",
      "          \"2015-10-05\": {\n",
      "               \"MXN\": 18.7147\n",
      "          },\n",
      "          \"2015-06-24\": {\n",
      "               \"MXN\": 17.249\n",
      "          },\n",
      "          \"2016-01-04\": {\n",
      "               \"MXN\": 18.9353\n",
      "          },\n",
      "          \"2015-08-25\": {\n",
      "               \"MXN\": 19.5343\n",
      "          },\n",
      "          \"2015-08-07\": {\n",
      "               \"MXN\": 17.818\n",
      "          },\n",
      "          \"2015-09-29\": {\n",
      "               \"MXN\": 19.016\n",
      "          },\n",
      "          \"2015-06-30\": {\n",
      "               \"MXN\": 17.5332\n",
      "          },\n",
      "          \"2016-02-10\": {\n",
      "               \"MXN\": 21.0652\n",
      "          },\n",
      "          \"2016-02-24\": {\n",
      "               \"MXN\": 20.0815\n",
      "          },\n",
      "          \"2015-11-12\": {\n",
      "               \"MXN\": 18.0004\n",
      "          },\n",
      "          \"2016-02-15\": {\n",
      "               \"MXN\": 21.091\n",
      "          },\n",
      "          \"2015-11-25\": {\n",
      "               \"MXN\": 17.5204\n",
      "          },\n",
      "          \"2015-11-27\": {\n",
      "               \"MXN\": 17.5099\n",
      "          },\n",
      "          \"2015-09-30\": {\n",
      "               \"MXN\": 18.9768\n",
      "          },\n",
      "          \"2015-11-30\": {\n",
      "               \"MXN\": 17.5569\n",
      "          },\n",
      "          \"2015-08-06\": {\n",
      "               \"MXN\": 17.8345\n",
      "          },\n",
      "          \"2016-02-05\": {\n",
      "               \"MXN\": 20.3988\n",
      "          },\n",
      "          \"2016-02-25\": {\n",
      "               \"MXN\": 20.0011\n",
      "          },\n",
      "          \"2015-07-21\": {\n",
      "               \"MXN\": 17.3622\n",
      "          },\n",
      "          \"2015-06-04\": {\n",
      "               \"MXN\": 17.5812\n",
      "          },\n",
      "          \"2016-02-09\": {\n",
      "               \"MXN\": 21.1922\n",
      "          },\n",
      "          \"2015-10-01\": {\n",
      "               \"MXN\": 18.8045\n",
      "          },\n",
      "          \"2015-05-15\": {\n",
      "               \"MXN\": 17.2921\n",
      "          },\n",
      "          \"2015-08-21\": {\n",
      "               \"MXN\": 18.9972\n",
      "          },\n",
      "          \"2015-07-30\": {\n",
      "               \"MXN\": 17.9459\n",
      "          },\n",
      "          \"2016-01-27\": {\n",
      "               \"MXN\": 20.004\n",
      "          },\n",
      "          \"2015-12-30\": {\n",
      "               \"MXN\": 18.8867\n",
      "          },\n",
      "          \"2015-08-28\": {\n",
      "               \"MXN\": 19.0764\n",
      "          },\n",
      "          \"2015-11-17\": {\n",
      "               \"MXN\": 17.888\n",
      "          },\n",
      "          \"2015-06-17\": {\n",
      "               \"MXN\": 17.3843\n",
      "          },\n",
      "          \"2015-10-02\": {\n",
      "               \"MXN\": 18.8107\n",
      "          },\n",
      "          \"2016-03-08\": {\n",
      "               \"MXN\": 19.6437\n",
      "          },\n",
      "          \"2016-04-06\": {\n",
      "               \"MXN\": 20.1485\n",
      "          },\n",
      "          \"2015-10-08\": {\n",
      "               \"MXN\": 18.6929\n",
      "          },\n",
      "          \"2015-09-25\": {\n",
      "               \"MXN\": 18.6723\n",
      "          },\n",
      "          \"2015-06-25\": {\n",
      "               \"MXN\": 17.3559\n",
      "          },\n",
      "          \"2016-04-12\": {\n",
      "               \"MXN\": 20.0248\n",
      "          },\n",
      "          \"2015-12-15\": {\n",
      "               \"MXN\": 18.9649\n",
      "          },\n",
      "          \"2015-06-02\": {\n",
      "               \"MXN\": 17.0376\n",
      "          },\n",
      "          \"2015-11-19\": {\n",
      "               \"MXN\": 17.8206\n",
      "          },\n",
      "          \"2016-03-30\": {\n",
      "               \"MXN\": 19.5281\n",
      "          },\n",
      "          \"2015-09-22\": {\n",
      "               \"MXN\": 18.7248\n",
      "          },\n",
      "          \"2015-11-23\": {\n",
      "               \"MXN\": 17.632\n",
      "          },\n",
      "          \"2016-01-19\": {\n",
      "               \"MXN\": 19.6912\n",
      "          },\n",
      "          \"2015-07-15\": {\n",
      "               \"MXN\": 17.2346\n",
      "          },\n",
      "          \"2015-11-20\": {\n",
      "               \"MXN\": 17.7282\n",
      "          },\n",
      "          \"2016-02-22\": {\n",
      "               \"MXN\": 19.935\n",
      "          },\n",
      "          \"2016-02-02\": {\n",
      "               \"MXN\": 20.0265\n",
      "          },\n",
      "          \"2015-09-11\": {\n",
      "               \"MXN\": 18.8722\n",
      "          },\n",
      "          \"2015-05-14\": {\n",
      "               \"MXN\": 17.3826\n",
      "          },\n",
      "          \"2015-11-10\": {\n",
      "               \"MXN\": 17.9789\n",
      "          },\n",
      "          \"2016-02-23\": {\n",
      "               \"MXN\": 19.8974\n",
      "          },\n",
      "          \"2016-01-29\": {\n",
      "               \"MXN\": 20.0054\n",
      "          },\n",
      "          \"2016-02-19\": {\n",
      "               \"MXN\": 20.2927\n",
      "          },\n",
      "          \"2016-04-13\": {\n",
      "               \"MXN\": 19.8238\n",
      "          },\n",
      "          \"2015-11-18\": {\n",
      "               \"MXN\": 17.8707\n",
      "          },\n",
      "          \"2016-03-16\": {\n",
      "               \"MXN\": 19.8495\n",
      "          },\n",
      "          \"2015-06-10\": {\n",
      "               \"MXN\": 17.4289\n",
      "          },\n",
      "          \"2015-09-15\": {\n",
      "               \"MXN\": 18.9457\n",
      "          },\n",
      "          \"2015-05-13\": {\n",
      "               \"MXN\": 17.1482\n",
      "          },\n",
      "          \"2016-01-05\": {\n",
      "               \"MXN\": 18.5798\n",
      "          },\n",
      "          \"2015-09-16\": {\n",
      "               \"MXN\": 18.6879\n",
      "          },\n",
      "          \"2015-06-08\": {\n",
      "               \"MXN\": 17.4998\n",
      "          },\n",
      "          \"2015-06-09\": {\n",
      "               \"MXN\": 17.5448\n",
      "          },\n",
      "          \"2015-11-03\": {\n",
      "               \"MXN\": 18.0939\n",
      "          },\n",
      "          \"2016-04-08\": {\n",
      "               \"MXN\": 20.2108\n",
      "          },\n",
      "          \"2016-02-17\": {\n",
      "               \"MXN\": 20.8655\n",
      "          },\n",
      "          \"2015-06-19\": {\n",
      "               \"MXN\": 17.3146\n",
      "          },\n",
      "          \"2016-03-18\": {\n",
      "               \"MXN\": 19.4683\n",
      "          },\n",
      "          \"2015-12-22\": {\n",
      "               \"MXN\": 18.7405\n",
      "          },\n",
      "          \"2015-12-09\": {\n",
      "               \"MXN\": 18.5713\n",
      "          },\n",
      "          \"2015-06-18\": {\n",
      "               \"MXN\": 17.3278\n",
      "          },\n",
      "          \"2015-09-08\": {\n",
      "               \"MXN\": 18.8117\n",
      "          },\n",
      "          \"2015-12-01\": {\n",
      "               \"MXN\": 17.508\n",
      "          },\n",
      "          \"2015-10-21\": {\n",
      "               \"MXN\": 18.9044\n",
      "          },\n",
      "          \"2015-10-30\": {\n",
      "               \"MXN\": 18.2497\n",
      "          },\n",
      "          \"2015-06-01\": {\n",
      "               \"MXN\": 16.8773\n",
      "          },\n",
      "          \"2016-02-11\": {\n",
      "               \"MXN\": 21.6064\n",
      "          },\n",
      "          \"2015-06-29\": {\n",
      "               \"MXN\": 17.3959\n",
      "          },\n",
      "          \"2015-05-12\": {\n",
      "               \"MXN\": 17.3215\n",
      "          },\n",
      "          \"2016-03-11\": {\n",
      "               \"MXN\": 19.6852\n",
      "          },\n",
      "          \"2015-10-29\": {\n",
      "               \"MXN\": 18.1941\n",
      "          },\n",
      "          \"2015-05-18\": {\n",
      "               \"MXN\": 17.1188\n",
      "          },\n",
      "          \"2015-12-03\": {\n",
      "               \"MXN\": 17.6658\n",
      "          },\n",
      "          \"2015-05-25\": {\n",
      "               \"MXN\": 16.7662\n",
      "          },\n",
      "          \"2015-06-16\": {\n",
      "               \"MXN\": 17.3283\n",
      "          },\n",
      "          \"2016-01-21\": {\n",
      "               \"MXN\": 20.212\n",
      "          },\n",
      "          \"2015-10-19\": {\n",
      "               \"MXN\": 18.636\n",
      "          },\n",
      "          \"2016-03-15\": {\n",
      "               \"MXN\": 19.8474\n",
      "          },\n",
      "          \"2015-08-03\": {\n",
      "               \"MXN\": 17.6897\n",
      "          },\n",
      "          \"2015-10-22\": {\n",
      "               \"MXN\": 18.7683\n",
      "          },\n",
      "          \"2015-07-01\": {\n",
      "               \"MXN\": 17.4492\n",
      "          },\n",
      "          \"2015-12-17\": {\n",
      "               \"MXN\": 18.3649\n",
      "          },\n",
      "          \"2015-11-26\": {\n",
      "               \"MXN\": 17.5522\n",
      "          },\n",
      "          \"2015-11-13\": {\n",
      "               \"MXN\": 18.062\n",
      "          },\n",
      "          \"2015-11-06\": {\n",
      "               \"MXN\": 18.0924\n",
      "          },\n",
      "          \"2015-08-24\": {\n",
      "               \"MXN\": 19.6875\n",
      "          },\n",
      "          \"2016-01-11\": {\n",
      "               \"MXN\": 19.4182\n",
      "          },\n",
      "          \"2015-09-09\": {\n",
      "               \"MXN\": 18.6895\n",
      "          },\n",
      "          \"2015-12-16\": {\n",
      "               \"MXN\": 18.7228\n",
      "          },\n",
      "          \"2015-10-20\": {\n",
      "               \"MXN\": 18.7711\n",
      "          },\n",
      "          \"2015-10-07\": {\n",
      "               \"MXN\": 18.6678\n",
      "          },\n",
      "          \"2015-06-26\": {\n",
      "               \"MXN\": 17.4219\n",
      "          },\n",
      "          \"2015-07-08\": {\n",
      "               \"MXN\": 17.4455\n",
      "          },\n",
      "          \"2016-02-12\": {\n",
      "               \"MXN\": 21.6852\n",
      "          },\n",
      "          \"2015-07-07\": {\n",
      "               \"MXN\": 17.3038\n",
      "          },\n",
      "          \"2015-05-29\": {\n",
      "               \"MXN\": 16.8433\n",
      "          },\n",
      "          \"2015-08-27\": {\n",
      "               \"MXN\": 19.1585\n",
      "          },\n",
      "          \"2016-04-01\": {\n",
      "               \"MXN\": 19.8996\n",
      "          },\n",
      "          \"2015-12-02\": {\n",
      "               \"MXN\": 17.5353\n",
      "          },\n",
      "          \"2015-12-07\": {\n",
      "               \"MXN\": 18.1229\n",
      "          },\n",
      "          \"2015-06-03\": {\n",
      "               \"MXN\": 17.2326\n",
      "          },\n",
      "          \"2015-08-14\": {\n",
      "               \"MXN\": 18.326\n",
      "          },\n",
      "          \"2016-01-20\": {\n",
      "               \"MXN\": 20.0427\n",
      "          },\n",
      "          \"2016-04-05\": {\n",
      "               \"MXN\": 19.9963\n",
      "          },\n",
      "          \"2016-03-03\": {\n",
      "               \"MXN\": 19.5122\n",
      "          },\n",
      "          \"2015-09-07\": {\n",
      "               \"MXN\": 18.8887\n",
      "          },\n",
      "          \"2015-12-23\": {\n",
      "               \"MXN\": 18.7712\n",
      "          },\n",
      "          \"2016-02-03\": {\n",
      "               \"MXN\": 20.1098\n",
      "          },\n",
      "          \"2015-09-24\": {\n",
      "               \"MXN\": 19.4059\n",
      "          },\n",
      "          \"2016-02-08\": {\n",
      "               \"MXN\": 20.7145\n",
      "          },\n",
      "          \"2016-04-04\": {\n",
      "               \"MXN\": 19.7227\n",
      "          },\n",
      "          \"2015-12-31\": {\n",
      "               \"MXN\": 18.9145\n",
      "          },\n",
      "          \"2015-05-27\": {\n",
      "               \"MXN\": 16.655\n",
      "          },\n",
      "          \"2016-03-24\": {\n",
      "               \"MXN\": 19.7076\n",
      "          },\n",
      "          \"2015-06-22\": {\n",
      "               \"MXN\": 17.3868\n",
      "          },\n",
      "          \"2016-03-22\": {\n",
      "               \"MXN\": 19.568\n",
      "          },\n",
      "          \"2015-05-28\": {\n",
      "               \"MXN\": 16.7079\n",
      "          },\n",
      "          \"2015-12-29\": {\n",
      "               \"MXN\": 18.8429\n",
      "          },\n",
      "          \"2015-08-20\": {\n",
      "               \"MXN\": 18.7203\n",
      "          },\n",
      "          \"2015-07-23\": {\n",
      "               \"MXN\": 17.6836\n",
      "          },\n",
      "          \"2015-09-02\": {\n",
      "               \"MXN\": 19.0198\n",
      "          },\n",
      "          \"2015-06-11\": {\n",
      "               \"MXN\": 17.4152\n",
      "          },\n",
      "          \"2015-11-11\": {\n",
      "               \"MXN\": 17.9011\n",
      "          },\n",
      "          \"2015-11-16\": {\n",
      "               \"MXN\": 17.9456\n",
      "          },\n",
      "          \"2016-01-08\": {\n",
      "               \"MXN\": 19.3231\n",
      "          },\n",
      "          \"2016-01-06\": {\n",
      "               \"MXN\": 18.748\n",
      "          },\n",
      "          \"2016-04-18\": {\n",
      "               \"MXN\": 19.9043\n",
      "          },\n",
      "          \"2015-07-02\": {\n",
      "               \"MXN\": 17.5086\n",
      "          },\n",
      "          \"2016-01-28\": {\n",
      "               \"MXN\": 19.9966\n",
      "          },\n",
      "          \"2016-01-07\": {\n",
      "               \"MXN\": 19.2176\n",
      "          },\n",
      "          \"2015-12-21\": {\n",
      "               \"MXN\": 18.6067\n",
      "          },\n",
      "          \"2016-03-29\": {\n",
      "               \"MXN\": 19.5809\n",
      "          },\n",
      "          \"2015-10-27\": {\n",
      "               \"MXN\": 18.3502\n",
      "          },\n",
      "          \"2015-10-26\": {\n",
      "               \"MXN\": 18.1891\n",
      "          },\n",
      "          \"2016-03-01\": {\n",
      "               \"MXN\": 19.5872\n",
      "          },\n",
      "          \"2015-08-26\": {\n",
      "               \"MXN\": 19.3982\n",
      "          },\n",
      "          \"2016-04-11\": {\n",
      "               \"MXN\": 20.1924\n",
      "          },\n",
      "          \"2016-01-18\": {\n",
      "               \"MXN\": 19.8703\n",
      "          },\n",
      "          \"2016-04-15\": {\n",
      "               \"MXN\": 19.7927\n",
      "          },\n",
      "          \"2015-07-14\": {\n",
      "               \"MXN\": 17.3076\n",
      "          },\n",
      "          \"2015-10-23\": {\n",
      "               \"MXN\": 18.2027\n",
      "          },\n",
      "          \"2016-02-29\": {\n",
      "               \"MXN\": 19.8005\n",
      "          },\n",
      "          \"2016-02-16\": {\n",
      "               \"MXN\": 21.0457\n",
      "          },\n",
      "          \"2015-08-31\": {\n",
      "               \"MXN\": 18.913\n",
      "          },\n",
      "          \"2015-07-29\": {\n",
      "               \"MXN\": 17.9695\n",
      "          },\n",
      "          \"2016-04-14\": {\n",
      "               \"MXN\": 19.6655\n",
      "          },\n",
      "          \"2015-07-22\": {\n",
      "               \"MXN\": 17.5173\n",
      "          },\n",
      "          \"2016-04-21\": {\n",
      "               \"MXN\": 19.6232\n",
      "          },\n",
      "          \"2015-10-16\": {\n",
      "               \"MXN\": 18.7145\n",
      "          },\n",
      "          \"2015-06-05\": {\n",
      "               \"MXN\": 17.4451\n",
      "          },\n",
      "          \"2015-07-09\": {\n",
      "               \"MXN\": 17.4211\n",
      "          },\n",
      "          \"2016-03-02\": {\n",
      "               \"MXN\": 19.4214\n",
      "          },\n",
      "          \"2016-01-13\": {\n",
      "               \"MXN\": 19.2779\n",
      "          },\n",
      "          \"2016-01-26\": {\n",
      "               \"MXN\": 20.1259\n",
      "          },\n",
      "          \"2015-11-02\": {\n",
      "               \"MXN\": 18.2111\n",
      "          },\n",
      "          \"2015-12-14\": {\n",
      "               \"MXN\": 19.1214\n",
      "          },\n",
      "          \"2015-10-09\": {\n",
      "               \"MXN\": 18.6271\n",
      "          },\n",
      "          \"2015-10-12\": {\n",
      "               \"MXN\": 18.6802\n",
      "          },\n",
      "          \"2015-07-13\": {\n",
      "               \"MXN\": 17.4077\n",
      "          },\n",
      "          \"2016-04-07\": {\n",
      "               \"MXN\": 20.1779\n",
      "          },\n",
      "          \"2016-01-14\": {\n",
      "               \"MXN\": 19.5529\n",
      "          },\n",
      "          \"2015-12-04\": {\n",
      "               \"MXN\": 18.2499\n",
      "          },\n",
      "          \"2015-07-06\": {\n",
      "               \"MXN\": 17.4537\n",
      "          },\n",
      "          \"2015-05-21\": {\n",
      "               \"MXN\": 16.8999\n",
      "          },\n",
      "          \"2015-10-15\": {\n",
      "               \"MXN\": 18.7577\n",
      "          },\n",
      "          \"2015-08-13\": {\n",
      "               \"MXN\": 18.0982\n",
      "          },\n",
      "          \"2016-04-19\": {\n",
      "               \"MXN\": 19.5947\n",
      "          },\n",
      "          \"2015-07-17\": {\n",
      "               \"MXN\": 17.2141\n",
      "          },\n",
      "          \"2016-03-07\": {\n",
      "               \"MXN\": 19.5274\n",
      "          },\n",
      "          \"2016-03-10\": {\n",
      "               \"MXN\": 19.1827\n",
      "          }\n",
      "     },\n",
      "     \"start_at\": \"2015-05-12\",\n",
      "     \"base\": \"EUR\",\n",
      "     \"end_at\": \"2016-04-24\"\n",
      "}\n"
     ]
    }
   ],
   "source": [
    "print(json.dumps(data_period, indent=5))"
   ]
  },
  {
   "cell_type": "markdown",
   "metadata": {},
   "source": [
    "### Creating a Simple Currency Convertor"
   ]
  },
  {
   "cell_type": "code",
   "execution_count": 134,
   "metadata": {},
   "outputs": [
    {
     "name": "stdout",
     "output_type": "stream",
     "text": [
      "Please enter the date (in this format: yyyy-mm-dd):2008-04-24\n",
      "Convert from(currency):USD\n",
      "Convert to (currency):MXN\n",
      "How much do you want to convert:10\n",
      "\n",
      " 10.0 USD is equal to 104.76504534200001 MXN, based upon exchange rates on 2008-04-24\n"
     ]
    }
   ],
   "source": [
    "date = input('Please enter the date (in this format: yyyy-mm-dd):')\n",
    "base = input('Convert from(currency):')\n",
    "currency = input('Convert to (currency):')\n",
    "quan = float(input('How much do you want to convert:' .format(base)))\n",
    "\n",
    "url = BASE_URL + date + '?base=' + base + '&symbols=' + currency\n",
    "response = requests.get(url)\n",
    "\n",
    "if(response.ok is False):\n",
    "    print('\\nError {}:' .format(response.status_code))\n",
    "    print(response.json()['error'])\n",
    "    \n",
    "else: \n",
    "    data = response.json()\n",
    "    rate = data['rates'][currency]\n",
    "    \n",
    "    result = quan*rate\n",
    "    \n",
    "    print(\"\\n {0} {1} is equal to {2} {3}, based upon exchange rates on {4}\".format(quan,base,result,currency,data['date']))\n",
    "    "
   ]
  }
 ],
 "metadata": {
  "kernelspec": {
   "display_name": "Python 3",
   "language": "python",
   "name": "python3"
  },
  "language_info": {
   "codemirror_mode": {
    "name": "ipython",
    "version": 3
   },
   "file_extension": ".py",
   "mimetype": "text/x-python",
   "name": "python",
   "nbconvert_exporter": "python",
   "pygments_lexer": "ipython3",
   "version": "3.9.0"
  }
 },
 "nbformat": 4,
 "nbformat_minor": 4
}
