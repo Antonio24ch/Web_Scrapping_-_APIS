{
 "cells": [
  {
   "cell_type": "code",
   "execution_count": 1,
   "metadata": {},
   "outputs": [
    {
     "name": "stdout",
     "output_type": "stream",
     "text": [
      "Introduce las siglas del país(por ejemplo MX): MX\n",
      "Abasolo\n",
      "Aguascalientes\n",
      "Álvaro Obregón\n",
      "Apizaco\n",
      "Apodaca\n",
      "Atitalaquia\n",
      "Atotonilco de Tula\n",
      "Azcapotzalco\n",
      "Azteca\n",
      "BAJA CALIFORNIA NORTE\n",
      "Benito Juárez\n",
      "Cadereyta Jiménez\n",
      "Celaya\n",
      "Chihuahua\n",
      "Coronango\n",
      "Coyoacán\n",
      "Cuajimalpa de Morelos\n",
      "Cuernavaca\n",
      "DISTRITO FEDERAL\n",
      "Durango\n",
      "Ecatepec de Morelos\n",
      "Fraccionamiento Real Universidad\n",
      "García\n",
      "General Escobedo\n",
      "Gómez Palacio\n",
      "Guadalajara\n",
      "Guadalupe\n",
      "Guanajuato\n",
      "GUANAJUATO\n",
      "Gustavo A. Madero\n",
      "Huichapan\n",
      "Irapuato\n",
      "Izcalli Cuahutémoc V\n",
      "Iztapalapa\n",
      "JALISCO\n",
      "Juárez\n",
      "León\n",
      "Lerdo\n",
      "Lomas Lindas\n",
      "Mérida\n",
      "Mexicali\n",
      "MEXICO STATE\n",
      "Miguel Hidalgo\n",
      "Minatitlán\n",
      "Monclova\n",
      "Monterrey\n",
      "Morelia\n",
      "Naucalpan de Juárez\n",
      "Nezahualcóyotl\n",
      "Nogales\n"
     ]
    }
   ],
   "source": [
    "import urllib.request\n",
    "import json\n",
    "\n",
    "url = 'https://api.openaq.org/v1/cities'\n",
    "\n",
    "pais = input('Introduce las siglas del país(por ejemplo MX): ')\n",
    "\n",
    "url1 = url + '?country=' + pais\n",
    "\n",
    "data = urllib.request.urlopen(url1).read().decode()\n",
    "\n",
    "js = json.loads(data)\n",
    "\n",
    "for j in range(50):\n",
    "    city = js['results'][j]['city']\n",
    "    print(city)"
   ]
  },
  {
   "cell_type": "code",
   "execution_count": 12,
   "metadata": {},
   "outputs": [
    {
     "name": "stdout",
     "output_type": "stream",
     "text": [
      "Introducir el nombre de una ciudad de la lista anterior Guadalajara\n",
      "El valor de no2 en Guadalajara es de 0.017255 ppm\n"
     ]
    }
   ],
   "source": [
    "city = input('Introducir el nombre de una ciudad de la lista anterior ')\n",
    "\n",
    "url = 'https://api.openaq.org/v1/latest' # Conectando a URL\n",
    "\n",
    "url1 = url + '?limit=1&city=' + city # Introduciendo parametros\n",
    "\n",
    "data = urllib.request.urlopen(url1).read().decode() # Cargando datos\n",
    "\n",
    "js = json.loads(data) # Trasnformando datos JSON a una libería que python entienda\n",
    "\n",
    "# Parsenado JSON para extraer valor que nos interesan\n",
    "parametro = js['results'][0]['measurements'][0]['parameter']\n",
    "valor = js['results'][0]['measurements'][0]['value']\n",
    "unidades = js['results'][0]['measurements'][0]['unit']\n",
    "\n",
    "print(f'El valor de {parametro} en {city} es de {valor} {unidades}')"
   ]
  }
 ],
 "metadata": {
  "kernelspec": {
   "display_name": "Python 3",
   "language": "python",
   "name": "python3"
  },
  "language_info": {
   "codemirror_mode": {
    "name": "ipython",
    "version": 3
   },
   "file_extension": ".py",
   "mimetype": "text/x-python",
   "name": "python",
   "nbconvert_exporter": "python",
   "pygments_lexer": "ipython3",
   "version": "3.9.0"
  }
 },
 "nbformat": 4,
 "nbformat_minor": 4
}
