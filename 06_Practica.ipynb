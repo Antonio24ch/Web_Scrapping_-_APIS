{
 "cells": [
  {
   "cell_type": "markdown",
   "metadata": {},
   "source": [
    "## Extraer el Valor de un Fondo de Inversión"
   ]
  },
  {
   "cell_type": "code",
   "execution_count": 1,
   "metadata": {},
   "outputs": [],
   "source": [
    "import sys\n",
    "import urllib\n",
    "import urllib\n",
    "from bs4 import BeautifulSoup\n",
    "# Supongamos que se tienen 50 participaciones\n",
    "participaciones = 50\n",
    "\n",
    "# Saber que valor se tiene en le banco\n",
    "URL = 'https://www.morningstarfunds.ie/ie/funds/snapshot/snapshot.aspx?id=F000014PET'\n",
    "HTML = urllib.request.urlopen(URL)\n",
    "BS = BeautifulSoup(HTML)\n",
    "\n",
    "tags = BS.find_all('td', class_ = 'line text')"
   ]
  },
  {
   "cell_type": "code",
   "execution_count": 2,
   "metadata": {},
   "outputs": [
    {
     "data": {
      "text/plain": [
       "[<td class=\"line text\">EUR 11.46</td>,\n",
       " <td class=\"line text\">0.53%\n",
       "                       </td>,\n",
       " <td class=\"line text\">LU0171290074</td>,\n",
       " <td class=\"line text\">USD 3306.50</td>,\n",
       " <td class=\"line text\">USD 91.98</td>,\n",
       " <td class=\"line text\">-</td>,\n",
       " <td class=\"line text\">2.47%</td>]"
      ]
     },
     "execution_count": 2,
     "metadata": {},
     "output_type": "execute_result"
    }
   ],
   "source": [
    "tags"
   ]
  },
  {
   "cell_type": "code",
   "execution_count": 3,
   "metadata": {},
   "outputs": [
    {
     "data": {
      "text/plain": [
       "<td class=\"line text\">EUR 11.46</td>"
      ]
     },
     "execution_count": 3,
     "metadata": {},
     "output_type": "execute_result"
    }
   ],
   "source": [
    "# Extrayendo primer elemento\n",
    "valor = tags[0]\n",
    "valor"
   ]
  },
  {
   "cell_type": "code",
   "execution_count": 4,
   "metadata": {},
   "outputs": [
    {
     "data": {
      "text/plain": [
       "'11.46'"
      ]
     },
     "execution_count": 4,
     "metadata": {},
     "output_type": "execute_result"
    }
   ],
   "source": [
    "# Filtrando\n",
    "valor.contents[0].replace('EUR\\xa0', '')"
   ]
  },
  {
   "cell_type": "code",
   "execution_count": 5,
   "metadata": {},
   "outputs": [
    {
     "data": {
      "text/plain": [
       "11.46"
      ]
     },
     "execution_count": 5,
     "metadata": {},
     "output_type": "execute_result"
    }
   ],
   "source": [
    "valor = float(valor.contents[0].replace('EUR\\xa0', ''))\n",
    "valor"
   ]
  },
  {
   "cell_type": "code",
   "execution_count": 6,
   "metadata": {},
   "outputs": [
    {
     "name": "stdout",
     "output_type": "stream",
     "text": [
      "tu participación total es de: $573.0\n"
     ]
    }
   ],
   "source": [
    "total = participaciones * valor\n",
    "print(f'tu participación total es de: ${total}')"
   ]
  },
  {
   "cell_type": "markdown",
   "metadata": {},
   "source": []
  },
  {
   "cell_type": "markdown",
   "metadata": {},
   "source": [
    "## Extrayendo Información de una Web"
   ]
  },
  {
   "cell_type": "code",
   "execution_count": 2,
   "metadata": {},
   "outputs": [],
   "source": [
    "URL1 = 'https://www.laliga.com/'\n",
    "HTML = urllib.request.urlopen(URL1)\n",
    "BS = BeautifulSoup(HTML)\n",
    "\n",
    "tags = BS(\"a\")"
   ]
  },
  {
   "cell_type": "code",
   "execution_count": 3,
   "metadata": {},
   "outputs": [
    {
     "name": "stdout",
     "output_type": "stream",
     "text": [
      "URL: https://www.athletic-club.eus/\n",
      "URL: https://www.atleticodemadrid.com/\n",
      "URL: https://www.osasuna.es/\n",
      "URL: https://www.cadizcf.com/\n",
      "URL: https://www.deportivoalaves.com/\n",
      "URL: http://www.elchecf.es/\n",
      "URL: https://www.fcbarcelona.es/es/\n",
      "URL: https://www.getafecf.com/\n",
      "URL: https://www.granadacf.es/\n",
      "URL: http://www.levanteud.com/es/\n",
      "URL: http://www.rccelta.es/index.php/es/\n",
      "URL: https://www.realbetisbalompie.es/\n",
      "URL: https://www.realmadrid.com/\n",
      "URL: https://www.realsociedad.eus/\n",
      "URL: http://www.realvalladolid.es/\n",
      "URL: http://www.sdeibar.com/\n",
      "URL: https://www.sdhuesca.es/\n",
      "URL: https://www.sevillafc.es/\n",
      "URL: http://www.valenciacf.com/\n",
      "URL: https://www.villarrealcf.es/\n"
     ]
    }
   ],
   "source": [
    "for tag in tags[0:20]: #Trayendo los primeros 20 resultados\n",
    "    print('URL:', tag.get('href'))\n"
   ]
  }
 ],
 "metadata": {
  "kernelspec": {
   "display_name": "Python 3",
   "language": "python",
   "name": "python3"
  },
  "language_info": {
   "codemirror_mode": {
    "name": "ipython",
    "version": 3
   },
   "file_extension": ".py",
   "mimetype": "text/x-python",
   "name": "python",
   "nbconvert_exporter": "python",
   "pygments_lexer": "ipython3",
   "version": "3.9.0"
  }
 },
 "nbformat": 4,
 "nbformat_minor": 4
}
